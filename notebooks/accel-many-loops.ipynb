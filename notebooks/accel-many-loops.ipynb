{
 "cells": [
  {
   "cell_type": "code",
   "execution_count": 238,
   "metadata": {},
   "outputs": [],
   "source": [
    "import islpy as isl\n",
    "from islpy import *\n",
    "\n",
    "def rearrange_pow(m):\n",
    "    m = m.move_dims(dim_type.param, 0, dim_type.in_, 0, 1)\n",
    "    s = m.range()\n",
    "    m = s.unwrap()\n",
    "    return m"
   ]
  },
  {
   "cell_type": "code",
   "execution_count": 239,
   "metadata": {},
   "outputs": [
    {
     "name": "stdout",
     "output_type": "stream",
     "text": [
      "[x -> x + 1] 0/1d: { [x] -> [o0] : x <= o0 <= 1 + x } \n",
      "[x -> x + 1]^2:  { [x] -> [2 + x] } \n",
      "[x -> x + 1] closure (2^64): { [x] -> [o0] : x <= o0 <= 18446744073709551616 + x } \n"
     ]
    }
   ],
   "source": [
    "# Return a map that is applied 0 or 1 times\n",
    "def m01(m):\n",
    "    mid = Map.identity(m.get_space())\n",
    "    return m.union(mid).coalesce()\n",
    "\n",
    "def msq(m):\n",
    "    return m.apply_range(m)\n",
    "    \n",
    "print(\"[x -> x + 1] 0/1d: %s \" % m01(Map(\"{ [x] -> [x + 1] }\")))\n",
    "print(\"[x -> x + 1]^2:  %s \" % msq(Map(\"{ [x] -> [x + 1] }\")))\n",
    "\n",
    "# Build a transitive closure operator that computes the transitive\n",
    "# closure upto a certain power of 2\n",
    "def transitive_closure_upto(m, pot):\n",
    "    if pot == 0:\n",
    "        return m01(m)\n",
    "    else:\n",
    "        return msq(transitive_closure_upto(m, pot - 1))\n",
    "    \n",
    "print(\"[x -> x + 1] closure (2^64): %s \" % transitive_closure_upto(Map(\"{ [x] -> [x + 1] }\"), 64))"
   ]
  },
  {
   "cell_type": "markdown",
   "metadata": {},
   "source": [
    "#### Step 1: represent loop entry, AND backedge together as one map that can be accelerated / transitive closured\n",
    "\n",
    "We are interested in the program\n",
    "```c\n",
    "void loop_1d_const() {\n",
    "   for(int i = 0; i < 10; i += 2) {}\n",
    "}\n",
    "```"
   ]
  },
  {
   "cell_type": "code",
   "execution_count": 240,
   "metadata": {},
   "outputs": [
    {
     "name": "stdout",
     "output_type": "stream",
     "text": [
      "m x i: [k] -> { [i, count] -> [2 + i, 1 + count] }\n",
      "m after trans: [k] -> { [i, count] -> [o0, o1] : 2o1 = -i + 2count + o0 and o0 >= 2 + i }\n",
      "delta: [k] -> { [i, count] : 2count = i and i >= 2 }\n",
      "c: [k] -> { [i, count] : k - count = 0 }\n",
      "delta after constraint: [k] -> { [i = 2k, count = k] : k > 0 }\n",
      "delta after projection: [k] -> { [i = 2k] : k > 0 }\n",
      "FINAL: [k] -> { [i = 2k] : k > 0 }\n"
     ]
    }
   ],
   "source": [
    "def power1d():\n",
    "    m0 = isl.Map(\"[k] -> { [i, count] -> [i+2, count + 1]}\")\n",
    "    # m = m.product(i)\n",
    "    print(\"m x i: %s\"  % m0)\n",
    "    m = m0.transitive_closure()[0]\n",
    "    print(\"m after trans: %s\"% m)\n",
    "\n",
    "    delta = m.deltas()\n",
    "    print(\"delta: %s\" % delta)\n",
    "    # p0 = count\n",
    "    c = Constraint.alloc_equality(isl.LocalSpace.from_space(delta.get_space()))\n",
    "    c = c.set_coefficient_val(dim_type.param, 0, 1)\n",
    "    c = c.set_coefficient_val(dim_type.set, 1, -1)\n",
    "    print(\"c: %s\" % c)\n",
    "    delta = delta.add_constraint(c)\n",
    "    print(\"delta after constraint: %s\" % delta)\n",
    "    delta = delta.project_out(dim_type.set, 1, 1)\n",
    "    print(\"delta after projection: %s\" % delta)\n",
    "    return delta\n",
    "    \n",
    "    \n",
    "m = power1d()\n",
    "print(\"FINAL: %s\" % m)"
   ]
  },
  {
   "cell_type": "markdown",
   "metadata": {},
   "source": [
    "#### Step 1.5: simple 2d loop with inner loop independent of outer loop\n",
    "\n",
    "```c\n",
    "void loop_1d_const() {\n",
    "   for(int i = 0; i < 10; i += 2) {\n",
    "       for(int j = 0; j < 10; j += 2) { \n",
    "       }\n",
    "   }\n",
    "}\n",
    "```"
   ]
  },
  {
   "cell_type": "code",
   "execution_count": 241,
   "metadata": {},
   "outputs": [
    {
     "name": "stdout",
     "output_type": "stream",
     "text": [
      "## Simple 1 ## \n",
      "m0: [k, l] -> { [i, ci, j, cj] -> [i, ci, 2 + j, 1 + cj] : ci >= 0 and j <= 9 and cj >= 0; [i, ci, j, cj] -> [2 + i, 1 + ci, 0, 0] : i <= 9 and ci >= 0 and j >= 10 and cj >= 0 }\n",
      "m after trans: [k, l] -> { [i, ci, j, cj] -> [o0, o1, o2, o3] : 2o1 = -i + 2ci + o0 and 2o3 = o2 and ci >= 0 and cj >= 0 and 2 + i <= o0 <= 11 and o2 >= 0 and ((j >= 10 and o2 <= -5i + 2cj + 5o0 and o2 <= 11 and o2 <= j) or (j <= 9 and 2*floor((1 + j)/2) >= -10 + j + o2)); [i, ci, j, cj] -> [i, ci, o2, o3] : 2o3 = -j + 2cj + o2 and ci >= 0 and cj >= 0 and 2 + j <= o2 <= 11 }\n",
      "EXACT?: 1\n",
      "delta: [k, l] -> { [i, ci, j, cj] : 2ci = i and i >= 2 and cj <= 5 and (j <= 0 or (j >= -9 and 2cj <= 9 + j)); [i = 0, ci = 0, j, cj] : 2cj = j and j >= 2 }\n",
      "\n",
      "\n",
      "c: [k, l] -> { [i, ci, j, cj] : k + l - ci - cj = 0 }\n",
      "delta after constraint: [k, l] -> { [i, ci, j, cj] : 2ci = i and 2cj = 2k + 2l - i and i >= -10 + 2k + 2l and i >= 2 and (j <= 0 or (j >= -9 + 2k + 2l - i and j >= -9)); [i = 0, ci = 0, j = 2k + 2l, cj = k + l] : l > -k }\n",
      "delta after projection: [k, l] -> { [i, j] : (i) mod 2 = 0 and i >= -10 + 2k + 2l and i >= 2 and (j <= 0 or (j >= -9 + 2k + 2l - i and j >= -9)); [i = 0, j = 2k + 2l] : l > -k }\n",
      "FINAL: [k, l] -> { [i, j] : (i) mod 2 = 0 and i >= -10 + 2k + 2l and i >= 2 and (j <= 0 or (j >= -9 + 2k + 2l - i and j >= -9)); [i = 0, j = 2k + 2l] : l > -k }\n",
      "## Simple 2 ## \n",
      "m0: [k, l] -> { [i, ci, j, i3] -> [i, ci, 2 + j, 1 + i3] : ci >= 0 and j <= 9 and i3 >= 0; [i, ci, j, i3] -> [i, ci, 0, -1] : ci >= 0 and j >= 10 and i3 >= 0; [i, ci, j, -1] -> [2 + i, 1 + ci, j, 0] : i <= 9 and ci >= 0 }\n",
      "m after trans: [k, l] -> { [i, ci, j, i3] -> [o0, o1, o2, o3] : 2o1 = -i + 2ci + o0 and 2o3 = o2 and ci >= 0 and i3 >= 0 and 2 + i <= o0 <= 11 and 0 <= o2 <= 10; [i, ci, j, -1] -> [o0, o1, o2, o3] : 2o1 = -i + 2ci + o0 and 2o3 = o2 and ci >= 0 and 4 + i <= o0 <= 11 and 0 <= o2 <= 10; [i, ci, j, i3] -> [i, ci, o2, o3] : 2o3 = -j + 2i3 + o2 and ci >= 0 and i3 >= 0 and 2 + j <= o2 <= 11; [i, ci, j, i3] -> [o0, o1, 0, -1] : 2o1 = -i + 2ci + o0 and ci >= 0 and i3 >= 0 and 2 + i <= o0 <= 11; [i, ci, j, -1] -> [o0, o1, 0, -1] : 2o1 = -i + 2ci + o0 and ci >= 0 and 2 + i <= o0 <= 11; [i, ci, j, -1] -> [2 + i, 1 + ci, o2, o3] : 2o3 = -j + o2 and i <= 9 and ci >= 0 and 2 + j <= o2 <= 11; [i, ci, j, i3] -> [i, ci, 0, -1] : ci >= 0 and i3 >= 0; [i, ci, j, -1] -> [2 + i, 1 + ci, j, 0] : i <= 9 and ci >= 0 }\n",
      "EXACT?: 1\n",
      "delta: [k, l] -> { [i, ci, j, i3] : 2ci = i and i >= 2 and i3 <= 6 and (i3 <= 5 or i3 < 0 or (i >= 4 and i3 > 0)); [i = 0, ci = 0, j, i3] : 2i3 = j and j >= 2; [i = 2, ci = 1, j = 0, 1]; [i, ci, j, 0] : 2ci = i and i >= 2; [i = 2, ci = 1, j, i3] : 2i3 = 2 + j and j >= 2; [i = 0, ci = 0, j, i3] : i3 < 0 }\n",
      "\n",
      "\n",
      "c: [k, l] -> { [i, ci, j, i3] : k + l - ci - i3 = 0 }\n",
      "delta after constraint: [k, l] -> { [i, ci, j, i3] : 2ci = i and 2i3 = 2k + 2l - i and i >= -12 + 2k + 2l and i >= 2 and (i >= 2 + 2k + 2l or i >= -10 + 2k + 2l or (4 <= i <= -2 + 2k + 2l)); [i = 0, ci = 0, j = 2k + 2l, k + l] : l > -k; [i = 2, ci = 1, j = -4 + 2k + 2l, -1 + k + l] : l >= 3 - k; [i = 0, ci = 0, j, k + l] : l < -k; [i = 2k + 2l, ci = k + l, j, 0] : l > -k; [i = 2, ci = 1, j = 0, 1] : l = 2 - k }\n",
      "delta after projection: [k, l] -> { [i, j] : (i) mod 2 = 0 and i >= -12 + 2k + 2l and i >= 2 and (i >= 2 + 2k + 2l or i >= -10 + 2k + 2l or (4 <= i <= -2 + 2k + 2l)); [i = 2, j = 0] : l = 2 - k; [i = 2, j = -4 + 2k + 2l] : l >= 3 - k; [i = 2k + 2l, j] : l > -k; [i = 0, j] : l < -k; [i = 0, j = 2k + 2l] : l > -k }\n",
      "FINAL: [k, l] -> { [i, j] : (i) mod 2 = 0 and i >= -12 + 2k + 2l and i >= 2 and (i >= 2 + 2k + 2l or i >= -10 + 2k + 2l or (4 <= i <= -2 + 2k + 2l)); [i = 2, j = 0] : l = 2 - k; [i = 2, j = -4 + 2k + 2l] : l >= 3 - k; [i = 2k + 2l, j] : l > -k; [i = 0, j] : l < -k; [i = 0, j = 2k + 2l] : l > -k }\n"
     ]
    }
   ],
   "source": [
    "\n",
    "def power2d_simple_1():\n",
    "    # increment i once j has stopped incrementing\n",
    "    deltai =  \"[i, ci, j, cj] -> [i+2, ci+1, 0, 0] : ci >= 0 and cj >= 0 and i < 10 and j >= 10\"\n",
    "    # increment j as long as constraints are satisfied\n",
    "    deltaj = \"[i, ci, j, cj] -> [i, ci, j+2, cj+1] : ci >= 0 and cj >= 0 and j < 10\"\n",
    "    m0 = isl.Map(\"[k, l] -> {\" + deltai + \";\" + deltaj +  \"}\")\n",
    "    print(\"m0: %s\" % m0)\n",
    "    (m, exact) = m0.transitive_closure()\n",
    "    print(\"m after trans: %s\"% m)\n",
    "    print(\"EXACT?: %s\" % exact)\n",
    "    assert(exact == 1)\n",
    "\n",
    "    delta = m.deltas()\n",
    "    print(\"delta: %s\" % delta)\n",
    "    # p0 = count\n",
    "    c = Constraint.alloc_equality(isl.LocalSpace.from_space(delta.get_space()))\n",
    "    # k - ci = 0\n",
    "    c = c.set_coefficient_val(dim_type.param, 0, 1)\n",
    "    c = c.set_coefficient_val(dim_type.set, 1, -1)\n",
    "    # l - cj = 0\n",
    "    c = c.set_coefficient_val(dim_type.param, 1, 1)\n",
    "    c = c.set_coefficient_val(dim_type.set, 3, -1)\n",
    "\n",
    "    print(\"\\n\\nc: %s\" % c)\n",
    "    delta = delta.add_constraint(c)\n",
    "    print(\"delta after constraint: %s\" % delta)\n",
    "    # project out ci\n",
    "    delta = delta.project_out(dim_type.set, 1, 1)\n",
    "    # project out cj\n",
    "    delta = delta.project_out(dim_type.set, 2, 1)\n",
    "\n",
    "    print(\"delta after projection: %s\" % delta)\n",
    "    return delta\n",
    "    \n",
    "# alternative encoding\n",
    "def power2d_simple_2():\n",
    "    # increment i once j has stopped incrementing\n",
    "    deltai =  \"[i, ci, j, -1] -> [i+2, ci+1, j, 0] : ci >= 0 and i < 10\"\n",
    "    # increment j as long as constraints are satisfied\n",
    "    deltaj = \"[i, ci, j, cj] -> [i, ci, j+2, cj+1] : ci >= 0 and cj >= 0 and j < 10\"\n",
    "    # reset counter of j\n",
    "    jcounter = \"[i, ci, j, cj] -> [i, ci, 0, (-1)] : ci >= 0 and cj >= 0 and j >= 10\"\n",
    "    m0 = isl.Map(\"[k, l] -> {\" + deltai + \";\" + deltaj + \";\" + jcounter + \";\" +  \"}\")\n",
    "    print(\"m0: %s\" % m0)\n",
    "    (m, exact) = m0.transitive_closure()\n",
    "    print(\"m after trans: %s\"% m)\n",
    "    print(\"EXACT?: %s\" % exact)\n",
    "    assert(exact == 1)\n",
    "\n",
    "    delta = m.deltas()\n",
    "    print(\"delta: %s\" % delta)\n",
    "    # p0 = count\n",
    "    c = Constraint.alloc_equality(isl.LocalSpace.from_space(delta.get_space()))\n",
    "    # k - ci = 0\n",
    "    c = c.set_coefficient_val(dim_type.param, 0, 1)\n",
    "    c = c.set_coefficient_val(dim_type.set, 1, -1)\n",
    "    # l - cj = 0\n",
    "    c = c.set_coefficient_val(dim_type.param, 1, 1)\n",
    "    c = c.set_coefficient_val(dim_type.set, 3, -1)\n",
    "\n",
    "    print(\"\\n\\nc: %s\" % c)\n",
    "    delta = delta.add_constraint(c)\n",
    "    print(\"delta after constraint: %s\" % delta)\n",
    "    # project out ci\n",
    "    delta = delta.project_out(dim_type.set, 1, 1)\n",
    "    # project out cj\n",
    "    delta = delta.project_out(dim_type.set, 2, 1)\n",
    "\n",
    "    print(\"delta after projection: %s\" % delta)\n",
    "    return delta\n",
    "    \n",
    "print(\"## Simple 1 ## \")    \n",
    "m = power2d_simple_1()\n",
    "print(\"FINAL: %s\" % m)\n",
    "\n",
    "\n",
    "print(\"## Simple 2 ## \")\n",
    "m = power2d_simple_2()\n",
    "print(\"FINAL: %s\" % m)"
   ]
  },
  {
   "cell_type": "markdown",
   "metadata": {},
   "source": [
    "#### Step 2: represent a nested loop as one map that can be powered\n",
    "\n",
    "We are interested in the program\n",
    "\n",
    "```c\n",
    "void loop_1d_const() {\n",
    "   for(int i = 0; i < 10; i += 2) {\n",
    "       for(int j = 0; j < i; j += 2) { \n",
    "       }\n",
    "   }\n",
    "}\n",
    "```"
   ]
  },
  {
   "cell_type": "code",
   "execution_count": 242,
   "metadata": {},
   "outputs": [
    {
     "name": "stdout",
     "output_type": "stream",
     "text": [
      "m0: [k, l] -> { [i, ci, j, cj] -> [i, ci, 2 + j, 1 + cj] : ci >= 0 and j < i and cj >= 0; [i, ci, j, cj] -> [2 + i, 1 + ci, 0, 0] : i <= 9 and ci >= 0 and j >= i and cj >= 0 }\n",
      "m after trans: [k, l] -> { [i, ci, j, cj] -> [o0, o1, o2, o3] : 2o1 = -i + 2ci + o0 and ci >= 0 and cj >= 0 and o0 >= 2 + i and o2 <= 1 + o0 and o3 > 0 and (j < i or (i <= 9 and j >= i)); [i, ci, j, cj] -> [o0, o1, 0, 0] : 2o1 = -i + 2ci + o0 and ci >= 0 and cj >= 0 and 2 + i <= o0 <= 11 and (j < i or j >= i); [i, ci, j, cj] -> [i, ci, o2, o3] : 2o3 = -j + 2cj + o2 and ci >= 0 and cj >= 0 and 2 + j <= o2 <= 1 + i }\n",
      "EXACT?: 0\n"
     ]
    },
    {
     "ename": "AssertionError",
     "evalue": "",
     "output_type": "error",
     "traceback": [
      "\u001b[0;31m---------------------------------------------------------------------------\u001b[0m",
      "\u001b[0;31mAssertionError\u001b[0m                            Traceback (most recent call last)",
      "\u001b[0;32m<ipython-input-242-f26b12786af8>\u001b[0m in \u001b[0;36m<module>\u001b[0;34m()\u001b[0m\n\u001b[1;32m     35\u001b[0m \u001b[0;34m\u001b[0m\u001b[0m\n\u001b[1;32m     36\u001b[0m \u001b[0;34m\u001b[0m\u001b[0m\n\u001b[0;32m---> 37\u001b[0;31m \u001b[0mm\u001b[0m \u001b[0;34m=\u001b[0m \u001b[0mpower2d_complex_1\u001b[0m\u001b[0;34m(\u001b[0m\u001b[0;34m)\u001b[0m\u001b[0;34m\u001b[0m\u001b[0;34m\u001b[0m\u001b[0m\n\u001b[0m\u001b[1;32m     38\u001b[0m \u001b[0mprint\u001b[0m\u001b[0;34m(\u001b[0m\u001b[0;34m\"FINAL: %s\"\u001b[0m \u001b[0;34m%\u001b[0m \u001b[0mm\u001b[0m\u001b[0;34m)\u001b[0m\u001b[0;34m\u001b[0m\u001b[0;34m\u001b[0m\u001b[0m\n",
      "\u001b[0;32m<ipython-input-242-f26b12786af8>\u001b[0m in \u001b[0;36mpower2d_complex_1\u001b[0;34m()\u001b[0m\n\u001b[1;32m     10\u001b[0m     \u001b[0mprint\u001b[0m\u001b[0;34m(\u001b[0m\u001b[0;34m\"m after trans: %s\"\u001b[0m\u001b[0;34m%\u001b[0m \u001b[0mm\u001b[0m\u001b[0;34m)\u001b[0m\u001b[0;34m\u001b[0m\u001b[0;34m\u001b[0m\u001b[0m\n\u001b[1;32m     11\u001b[0m     \u001b[0mprint\u001b[0m\u001b[0;34m(\u001b[0m\u001b[0;34m\"EXACT?: %s\"\u001b[0m \u001b[0;34m%\u001b[0m \u001b[0mexact\u001b[0m\u001b[0;34m)\u001b[0m\u001b[0;34m\u001b[0m\u001b[0;34m\u001b[0m\u001b[0m\n\u001b[0;32m---> 12\u001b[0;31m     \u001b[0;32massert\u001b[0m\u001b[0;34m(\u001b[0m\u001b[0mexact\u001b[0m \u001b[0;34m==\u001b[0m \u001b[0;36m1\u001b[0m\u001b[0;34m)\u001b[0m\u001b[0;34m\u001b[0m\u001b[0;34m\u001b[0m\u001b[0m\n\u001b[0m\u001b[1;32m     13\u001b[0m \u001b[0;34m\u001b[0m\u001b[0m\n\u001b[1;32m     14\u001b[0m     \u001b[0mdelta\u001b[0m \u001b[0;34m=\u001b[0m \u001b[0mm\u001b[0m\u001b[0;34m.\u001b[0m\u001b[0mdeltas\u001b[0m\u001b[0;34m(\u001b[0m\u001b[0;34m)\u001b[0m\u001b[0;34m\u001b[0m\u001b[0;34m\u001b[0m\u001b[0m\n",
      "\u001b[0;31mAssertionError\u001b[0m: "
     ]
    }
   ],
   "source": [
    "\n",
    "def power2d_complex_1():\n",
    "    # increment i once j has stopped incrementing\n",
    "    deltai =  \"[i, ci, j, cj] -> [i+2, ci+1, 0, 0] : ci >= 0 and cj >= 0 and i < 10 and j >= i\"\n",
    "    # increment j as long as constraints are satisfied\n",
    "    deltaj = \"[i, ci, j, cj] -> [i, ci, j+2, cj+1] : ci >= 0 and cj >= 0 and j < i\"\n",
    "    m0 = isl.Map(\"[k, l] -> {\" + deltai + \";\" + deltaj + \"}\")\n",
    "    print(\"m0: %s\" % m0)\n",
    "    (m, exact) = m0.transitive_closure()\n",
    "    print(\"m after trans: %s\"% m)\n",
    "    print(\"EXACT?: %s\" % exact)\n",
    "    assert(exact == 1)\n",
    "\n",
    "    delta = m.deltas()\n",
    "    print(\"delta: %s\" % delta)\n",
    "    # p0 = count\n",
    "    c = Constraint.alloc_equality(isl.LocalSpace.from_space(delta.get_space()))\n",
    "    # k - ci = 0\n",
    "    c = c.set_coefficient_val(dim_type.param, 0, 1)\n",
    "    c = c.set_coefficient_val(dim_type.set, 1, -1)\n",
    "    # l - cj = 0\n",
    "    c = c.set_coefficient_val(dim_type.param, 1, 1)\n",
    "    c = c.set_coefficient_val(dim_type.set, 3, -1)\n",
    "\n",
    "    print(\"\\n\\nc: %s\" % c)\n",
    "    delta = delta.add_constraint(c)\n",
    "    print(\"delta after constraint: %s\" % delta)\n",
    "    # project out ci\n",
    "    delta = delta.project_out(dim_type.set, 1, 1)\n",
    "    # project out cj\n",
    "    delta = delta.project_out(dim_type.set, 2, 1)\n",
    "\n",
    "    print(\"delta after projection: %s\" % delta)\n",
    "    return delta\n",
    "    \n",
    "    \n",
    "m = power2d_complex_1()\n",
    "print(\"FINAL: %s\" % m)"
   ]
  }
 ],
 "metadata": {
  "kernelspec": {
   "display_name": "Python 3",
   "language": "python",
   "name": "python3"
  },
  "language_info": {
   "codemirror_mode": {
    "name": "ipython",
    "version": 3
   },
   "file_extension": ".py",
   "mimetype": "text/x-python",
   "name": "python",
   "nbconvert_exporter": "python",
   "pygments_lexer": "ipython3",
   "version": "3.6.7"
  }
 },
 "nbformat": 4,
 "nbformat_minor": 4
}
